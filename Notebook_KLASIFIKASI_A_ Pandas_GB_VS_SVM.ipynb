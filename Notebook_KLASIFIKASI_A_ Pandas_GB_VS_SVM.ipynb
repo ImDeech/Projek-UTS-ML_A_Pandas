{
 "cells": [
  {
   "cell_type": "markdown",
   "id": "b3bf39d3",
   "metadata": {},
   "source": [
    "<h1>Klasifikasi Tsunami dan Gempa - Machine Learning</h1>\n",
    "\n"
   ]
  },
  {
   "cell_type": "code",
   "execution_count": 14,
   "id": "19c05c21",
   "metadata": {},
   "outputs": [],
   "source": [
    "# Data Manipulation\n",
    "import pandas as pd\n",
    "import numpy as np\n",
    "\n",
    "# Visualization\n",
    "import matplotlib.pyplot as plt\n",
    "\n",
    "# Machine Learning, Klasifikasi, dan Evaluasi\n",
    "from sklearn.model_selection import train_test_split\n",
    "from sklearn.metrics import classification_report, confusion_matrix\n",
    "from sklearn.preprocessing import StandardScaler\n",
    "from sklearn.pipeline import Pipeline\n",
    "from sklearn.preprocessing import MinMaxScaler\n",
    "from sklearn.feature_selection import SelectKBest, SelectPercentile, f_classif\n",
    "from sklearn.model_selection import StratifiedKFold, GridSearchCV\n",
    "import time\n",
    "from sklearn.ensemble import GradientBoostingClassifier\n",
    "from sklearn.svm import SVC\n",
    "from sklearn.metrics import accuracy_score, precision_score, recall_score, f1_score\n",
    "from sklearn.metrics import (\n",
    "    confusion_matrix,\n",
    "    ConfusionMatrixDisplay,\n",
    "    classification_report\n",
    ")"
   ]
  },
  {
   "cell_type": "markdown",
   "id": "ddf153b2",
   "metadata": {},
   "source": [
    "<h1>Load Dataset<h1>"
   ]
  },
  {
   "cell_type": "code",
   "execution_count": 3,
   "id": "a2993485",
   "metadata": {},
   "outputs": [
    {
     "data": {
      "text/html": [
       "<div>\n",
       "<style scoped>\n",
       "    .dataframe tbody tr th:only-of-type {\n",
       "        vertical-align: middle;\n",
       "    }\n",
       "\n",
       "    .dataframe tbody tr th {\n",
       "        vertical-align: top;\n",
       "    }\n",
       "\n",
       "    .dataframe thead th {\n",
       "        text-align: right;\n",
       "    }\n",
       "</style>\n",
       "<table border=\"1\" class=\"dataframe\">\n",
       "  <thead>\n",
       "    <tr style=\"text-align: right;\">\n",
       "      <th></th>\n",
       "      <th>magnitude</th>\n",
       "      <th>cdi</th>\n",
       "      <th>mmi</th>\n",
       "      <th>sig</th>\n",
       "      <th>nst</th>\n",
       "      <th>dmin</th>\n",
       "      <th>gap</th>\n",
       "      <th>depth</th>\n",
       "      <th>latitude</th>\n",
       "      <th>longitude</th>\n",
       "      <th>Year</th>\n",
       "      <th>Month</th>\n",
       "      <th>tsunami</th>\n",
       "    </tr>\n",
       "  </thead>\n",
       "  <tbody>\n",
       "    <tr>\n",
       "      <th>0</th>\n",
       "      <td>7.0</td>\n",
       "      <td>8</td>\n",
       "      <td>7</td>\n",
       "      <td>768</td>\n",
       "      <td>117</td>\n",
       "      <td>0.509</td>\n",
       "      <td>17.0</td>\n",
       "      <td>14.000</td>\n",
       "      <td>-9.7963</td>\n",
       "      <td>159.596</td>\n",
       "      <td>2022</td>\n",
       "      <td>11</td>\n",
       "      <td>1</td>\n",
       "    </tr>\n",
       "    <tr>\n",
       "      <th>1</th>\n",
       "      <td>6.9</td>\n",
       "      <td>4</td>\n",
       "      <td>4</td>\n",
       "      <td>735</td>\n",
       "      <td>99</td>\n",
       "      <td>2.229</td>\n",
       "      <td>34.0</td>\n",
       "      <td>25.000</td>\n",
       "      <td>-4.9559</td>\n",
       "      <td>100.738</td>\n",
       "      <td>2022</td>\n",
       "      <td>11</td>\n",
       "      <td>0</td>\n",
       "    </tr>\n",
       "    <tr>\n",
       "      <th>2</th>\n",
       "      <td>7.0</td>\n",
       "      <td>3</td>\n",
       "      <td>3</td>\n",
       "      <td>755</td>\n",
       "      <td>147</td>\n",
       "      <td>3.125</td>\n",
       "      <td>18.0</td>\n",
       "      <td>579.000</td>\n",
       "      <td>-20.0508</td>\n",
       "      <td>-178.346</td>\n",
       "      <td>2022</td>\n",
       "      <td>11</td>\n",
       "      <td>1</td>\n",
       "    </tr>\n",
       "    <tr>\n",
       "      <th>3</th>\n",
       "      <td>7.3</td>\n",
       "      <td>5</td>\n",
       "      <td>5</td>\n",
       "      <td>833</td>\n",
       "      <td>149</td>\n",
       "      <td>1.865</td>\n",
       "      <td>21.0</td>\n",
       "      <td>37.000</td>\n",
       "      <td>-19.2918</td>\n",
       "      <td>-172.129</td>\n",
       "      <td>2022</td>\n",
       "      <td>11</td>\n",
       "      <td>1</td>\n",
       "    </tr>\n",
       "    <tr>\n",
       "      <th>4</th>\n",
       "      <td>6.6</td>\n",
       "      <td>0</td>\n",
       "      <td>2</td>\n",
       "      <td>670</td>\n",
       "      <td>131</td>\n",
       "      <td>4.998</td>\n",
       "      <td>27.0</td>\n",
       "      <td>624.464</td>\n",
       "      <td>-25.5948</td>\n",
       "      <td>178.278</td>\n",
       "      <td>2022</td>\n",
       "      <td>11</td>\n",
       "      <td>1</td>\n",
       "    </tr>\n",
       "  </tbody>\n",
       "</table>\n",
       "</div>"
      ],
      "text/plain": [
       "   magnitude  cdi  mmi  sig  nst   dmin   gap    depth  latitude  longitude  \\\n",
       "0        7.0    8    7  768  117  0.509  17.0   14.000   -9.7963    159.596   \n",
       "1        6.9    4    4  735   99  2.229  34.0   25.000   -4.9559    100.738   \n",
       "2        7.0    3    3  755  147  3.125  18.0  579.000  -20.0508   -178.346   \n",
       "3        7.3    5    5  833  149  1.865  21.0   37.000  -19.2918   -172.129   \n",
       "4        6.6    0    2  670  131  4.998  27.0  624.464  -25.5948    178.278   \n",
       "\n",
       "   Year  Month  tsunami  \n",
       "0  2022     11        1  \n",
       "1  2022     11        0  \n",
       "2  2022     11        1  \n",
       "3  2022     11        1  \n",
       "4  2022     11        1  "
      ]
     },
     "execution_count": 3,
     "metadata": {},
     "output_type": "execute_result"
    }
   ],
   "source": [
    "file_path = 'earthquake_data_tsunami.csv'\n",
    "df_earthquakes_tsunami = pd.read_csv(file_path)\n",
    "df_earthquakes_tsunami.head()"
   ]
  },
  {
   "cell_type": "markdown",
   "id": "a2e2119f",
   "metadata": {},
   "source": [
    "<h1>Pembersihan Data</h1>"
   ]
  },
  {
   "cell_type": "code",
   "execution_count": 4,
   "id": "a64660dd",
   "metadata": {},
   "outputs": [
    {
     "name": "stdout",
     "output_type": "stream",
     "text": [
      "Jumlah nilai kosong per kolom:\n",
      " magnitude    0\n",
      "cdi          0\n",
      "mmi          0\n",
      "sig          0\n",
      "nst          0\n",
      "dmin         0\n",
      "gap          0\n",
      "depth        0\n",
      "latitude     0\n",
      "longitude    0\n",
      "Year         0\n",
      "Month        0\n",
      "tsunami      0\n",
      "dtype: int64\n",
      "\n",
      "Setelah imputasi, nilai kosong per kolom:\n",
      " magnitude    0\n",
      "cdi          0\n",
      "mmi          0\n",
      "sig          0\n",
      "nst          0\n",
      "dmin         0\n",
      "gap          0\n",
      "depth        0\n",
      "latitude     0\n",
      "longitude    0\n",
      "Year         0\n",
      "Month        0\n",
      "tsunami      0\n",
      "dtype: int64\n"
     ]
    }
   ],
   "source": [
    "#Cek Kolom\n",
    "print(\"Jumlah nilai kosong per kolom:\\n\", df_earthquakes_tsunami.isnull().sum())\n",
    "\n",
    "#Validasi Ulang\n",
    "print(\"\\nSetelah imputasi, nilai kosong per kolom:\\n\", df_earthquakes_tsunami.isnull().sum())"
   ]
  },
  {
   "cell_type": "code",
   "execution_count": 5,
   "id": "b8362cee",
   "metadata": {},
   "outputs": [
    {
     "name": "stdout",
     "output_type": "stream",
     "text": [
      "Jumlah baris duplikat (terhitung ganda): 0\n",
      "Bentuk data sebelum/ setelah hapus duplikat: (782, 13) -> (782, 13)\n"
     ]
    }
   ],
   "source": [
    "before = df_earthquakes_tsunami.shape\n",
    "dupes = df_earthquakes_tsunami[df_earthquakes_tsunami.duplicated(keep=False)]\n",
    "print(f\"Jumlah baris duplikat (terhitung ganda): {dupes.shape[0]}\")\n",
    "df_earthquakes_tsunami2 = df_earthquakes_tsunami.drop_duplicates(keep='first')\n",
    "print(\"Bentuk data sebelum/ setelah hapus duplikat:\", before, \"->\", df_earthquakes_tsunami2.shape)"
   ]
  },
  {
   "cell_type": "markdown",
   "id": "885c583a",
   "metadata": {},
   "source": [
    "<h3>Pemisahan Fitur-Target</h3>"
   ]
  },
  {
   "cell_type": "code",
   "execution_count": 6,
   "id": "523a5e2b",
   "metadata": {},
   "outputs": [],
   "source": [
    "y = df_earthquakes_tsunami['tsunami']\n",
    "not_needed_columns = ['tsunami', 'Year', 'Month']\n",
    "X = df_earthquakes_tsunami.drop(columns=not_needed_columns)"
   ]
  },
  {
   "cell_type": "markdown",
   "id": "494761a1",
   "metadata": {},
   "source": [
    "<h3>Train Test</h3>"
   ]
  },
  {
   "cell_type": "code",
   "execution_count": 7,
   "id": "8e7f323a",
   "metadata": {},
   "outputs": [
    {
     "name": "stdout",
     "output_type": "stream",
     "text": [
      "Ukuran X_train, X_test: (547, 10) (235, 10)\n"
     ]
    }
   ],
   "source": [
    "X_train, X_test, y_train, y_test = train_test_split(\n",
    "    X, y, test_size=0.30, random_state = 28, stratify=y)\n",
    "\n",
    "print(\"Ukuran X_train, X_test:\", X_train.shape, X_test.shape)"
   ]
  },
  {
   "cell_type": "markdown",
   "id": "1e2519f4",
   "metadata": {},
   "source": [
    "<h3>Gradient Boosting Classifier</h3>"
   ]
  },
  {
   "cell_type": "code",
   "execution_count": 8,
   "id": "eef4cdfd",
   "metadata": {},
   "outputs": [
    {
     "name": "stdout",
     "output_type": "stream",
     "text": [
      "Menjalankan GridSearch untuk Gradient Boosting...\n",
      "Fitting 5 folds for each of 270 candidates, totalling 1350 fits\n",
      "GridSearch Gradient Boosting selesai dalam 120.15 detik\n"
     ]
    }
   ],
   "source": [
    "# ============================================================\n",
    "#  PIPELINE: Feature Selection → Gradient Boosting Classifier\n",
    "# ============================================================\n",
    "pipe_gb = Pipeline(steps=[\n",
    "    ('feat_select', SelectKBest(score_func=f_classif)),\n",
    "    ('clf', GradientBoostingClassifier(random_state=28))\n",
    "])\n",
    "\n",
    "# GridSearch: dua metode seleksi fitur + parameter model\n",
    "params_grid_gb = [\n",
    "    {\n",
    "        'feat_select': [SelectKBest(score_func=f_classif)],\n",
    "        'feat_select__k': np.arange(5, 15),\n",
    "        'clf__n_estimators': [100, 200],\n",
    "        'clf__learning_rate': [0.01, 0.1, 0.2],\n",
    "        'clf__max_depth': [2, 3, 5]\n",
    "    },\n",
    "    {\n",
    "        'feat_select': [SelectPercentile(score_func=f_classif)],\n",
    "        'feat_select__percentile': np.arange(30, 80, 10),\n",
    "        'clf__n_estimators': [100, 200],\n",
    "        'clf__learning_rate': [0.01, 0.1, 0.2],\n",
    "        'clf__max_depth': [2, 3, 5]\n",
    "    }\n",
    "]\n",
    "\n",
    "SKF = StratifiedKFold(n_splits=5, shuffle=True, random_state=28)\n",
    "\n",
    "# Jalankan GridSearchCV\n",
    "print(\"Menjalankan GridSearch untuk Gradient Boosting...\")\n",
    "start = time.time()\n",
    "gscv_gb = GridSearchCV(\n",
    "    pipe_gb,\n",
    "    params_grid_gb,\n",
    "    cv=SKF,\n",
    "    scoring='f1',\n",
    "    verbose=1,\n",
    "    n_jobs=-1\n",
    ")\n",
    "gscv_gb.fit(X_train, y_train)\n",
    "print(f\"GridSearch Gradient Boosting selesai dalam {time.time() - start:.2f} detik\")"
   ]
  },
  {
   "cell_type": "markdown",
   "id": "e130af81",
   "metadata": {},
   "source": [
    "<h3>Evaluasi Gradient Boosting Classifier</h3>"
   ]
  },
  {
   "cell_type": "code",
   "execution_count": 9,
   "id": "80626ea7",
   "metadata": {},
   "outputs": [
    {
     "name": "stdout",
     "output_type": "stream",
     "text": [
      "CV Score (F1) terbaik: 0.8741186185088624\n",
      "Kombinasi model terbaik: Pipeline(steps=[('feat_select', SelectKBest(k=np.int64(7))),\n",
      "                ('clf',\n",
      "                 GradientBoostingClassifier(max_depth=2, n_estimators=200,\n",
      "                                            random_state=28))])\n",
      "\n",
      "Skor Test (akurasi) Gradient Boosting: 0.8893617021276595\n",
      "\n",
      "Fitur terbaik (terpilih): ['cdi' 'mmi' 'nst' 'dmin' 'gap' 'latitude' 'longitude']\n"
     ]
    },
    {
     "data": {
      "image/png": "[encoded data removed]",
      "text/plain": [
       "<Figure size 640x480 with 2 Axes>"
      ]
     },
     "metadata": {},
     "output_type": "display_data"
    },
    {
     "name": "stdout",
     "output_type": "stream",
     "text": [
      "\n",
      "Classification Report — Gradient Boosting:\n",
      "               precision    recall  f1-score   support\n",
      "\n",
      "           0       0.92      0.90      0.91       144\n",
      "           1       0.85      0.87      0.86        91\n",
      "\n",
      "    accuracy                           0.89       235\n",
      "   macro avg       0.88      0.89      0.88       235\n",
      "weighted avg       0.89      0.89      0.89       235\n",
      "\n",
      "Accuracy: 0.8894\n",
      "Precision: 0.8495\n",
      "Recall: 0.8681\n",
      "F1-Score: 0.8587\n"
     ]
    }
   ],
   "source": [
    "# === Evaluasi Hasil Terbaik\n",
    "print(\"CV Score (F1) terbaik:\", gscv_gb.best_score_)\n",
    "print(\"Kombinasi model terbaik:\", gscv_gb.best_estimator_)\n",
    "\n",
    "gb_test_score = gscv_gb.best_estimator_.score(X_test, y_test)\n",
    "print(\"\\nSkor Test (akurasi) Gradient Boosting:\", gb_test_score)\n",
    "\n",
    "# Fitur terbaik (jika selector mendukung get_support)\n",
    "selector_gb = gscv_gb.best_estimator_.named_steps['feat_select']\n",
    "if hasattr(selector_gb, 'get_support'):\n",
    "    mask = selector_gb.get_support()\n",
    "    selected = np.array(X.columns)[mask]\n",
    "    print(\"\\nFitur terbaik (terpilih):\", selected)\n",
    "\n",
    "# Confusion Matrix\n",
    "gb_pred = gscv_gb.predict(X_test)\n",
    "cm_gb = confusion_matrix(y_test, gb_pred)\n",
    "disp_gb = ConfusionMatrixDisplay(confusion_matrix=cm_gb, display_labels=['0 = Tidak Aman','1 = Aman'])\n",
    "disp_gb.plot(cmap=plt.cm.Greens)\n",
    "plt.title(\"Confusion Matrix — Gradient Boosting\")\n",
    "plt.show()\n",
    "\n",
    "print(\"\\nClassification Report — Gradient Boosting:\\n\", classification_report(y_test, gb_pred))\n",
    "print(f\"Accuracy: {accuracy_score(y_test, gb_pred):.4f}\")\n",
    "print(f\"Precision: {precision_score(y_test, gb_pred):.4f}\")\n",
    "print(f\"Recall: {recall_score(y_test, gb_pred):.4f}\")\n",
    "print(f\"F1-Score: {f1_score(y_test, gb_pred):.4f}\")"
   ]
  },
  {
   "cell_type": "markdown",
   "id": "bd033eb0",
   "metadata": {},
   "source": [
    "<h3>Support Vector Machine</h3>"
   ]
  },
  {
   "cell_type": "code",
   "execution_count": 10,
   "id": "20053e12",
   "metadata": {},
   "outputs": [
    {
     "name": "stdout",
     "output_type": "stream",
     "text": [
      "Menjalankan GridSearch untuk SVM...\n",
      "Fitting 5 folds for each of 360 candidates, totalling 1800 fits\n",
      "GridSearch SVM selesai dalam 23.34 detik\n"
     ]
    }
   ],
   "source": [
    "# ============================================================\n",
    "#  PIPELINE: Scaling → Feature Selection → Support Vector Machine\n",
    "# ============================================================\n",
    "pipe_svm = Pipeline(steps=[\n",
    "    ('scaler', StandardScaler()),  # placeholder (akan diganti di grid)\n",
    "    ('feat_select', SelectKBest(score_func=f_classif)),\n",
    "    ('clf', SVC(probability=True, random_state=28))\n",
    "])\n",
    "\n",
    "# GridSearch: bandingkan 2 scaler + 2 metode seleksi fitur + parameter SVM\n",
    "params_grid_svm = [\n",
    "    {\n",
    "        'scaler': [StandardScaler(), MinMaxScaler()],\n",
    "        'feat_select': [SelectKBest(score_func=f_classif)],\n",
    "        'feat_select__k': np.arange(5, 15),\n",
    "        'clf__C': [0.1, 1, 10],\n",
    "        'clf__kernel': ['linear', 'rbf'],\n",
    "        'clf__gamma': ['scale', 'auto']\n",
    "    },\n",
    "    {\n",
    "        'scaler': [StandardScaler(), MinMaxScaler()],\n",
    "        'feat_select': [SelectPercentile(score_func=f_classif)],\n",
    "        'feat_select__percentile': np.arange(30, 80, 10),\n",
    "        'clf__C': [0.1, 1, 10],\n",
    "        'clf__kernel': ['linear', 'rbf'],\n",
    "        'clf__gamma': ['scale', 'auto']\n",
    "    }\n",
    "]\n",
    "\n",
    "print(\"Menjalankan GridSearch untuk SVM...\")\n",
    "start = time.time()\n",
    "gscv_svm = GridSearchCV(\n",
    "    pipe_svm,\n",
    "    params_grid_svm,\n",
    "    cv=SKF,\n",
    "    scoring='f1',\n",
    "    verbose=1,\n",
    "    n_jobs=-1\n",
    ")\n",
    "gscv_svm.fit(X_train, y_train)\n",
    "print(f\"GridSearch SVM selesai dalam {time.time() - start:.2f} detik\")"
   ]
  },
  {
   "cell_type": "markdown",
   "id": "59efdde9",
   "metadata": {},
   "source": [
    "<h3>Evaluasi Support Vector Machine</h3>"
   ]
  },
  {
   "cell_type": "code",
   "execution_count": 11,
   "id": "5af062cd",
   "metadata": {},
   "outputs": [
    {
     "name": "stdout",
     "output_type": "stream",
     "text": [
      "CV Score (F1) terbaik: 0.8346354546792452\n",
      "Kombinasi model terbaik: Pipeline(steps=[('scaler', MinMaxScaler()),\n",
      "                ('feat_select', SelectKBest(k=np.int64(6))),\n",
      "                ('clf', SVC(C=10, probability=True, random_state=28))])\n",
      "\n",
      "Skor Test (akurasi) SVM: 0.851063829787234\n",
      "\n",
      "Fitur terbaik (terpilih): ['cdi' 'mmi' 'nst' 'dmin' 'gap' 'longitude']\n"
     ]
    },
    {
     "data": {
      "image/png": "[encoded data removed]",
      "text/plain": [
       "<Figure size 640x480 with 2 Axes>"
      ]
     },
     "metadata": {},
     "output_type": "display_data"
    },
    {
     "name": "stdout",
     "output_type": "stream",
     "text": [
      "\n",
      "Classification Report — SVM:\n",
      "               precision    recall  f1-score   support\n",
      "\n",
      "           0       0.89      0.87      0.88       144\n",
      "           1       0.80      0.82      0.81        91\n",
      "\n",
      "    accuracy                           0.85       235\n",
      "   macro avg       0.84      0.85      0.84       235\n",
      "weighted avg       0.85      0.85      0.85       235\n",
      "\n",
      "Accuracy: 0.8511\n",
      "Precision: 0.7979\n",
      "Recall: 0.8242\n",
      "F1-Score: 0.8108\n"
     ]
    }
   ],
   "source": [
    "# === Evaluasi hasil terbaik\n",
    "print(\"CV Score (F1) terbaik:\", gscv_svm.best_score_)\n",
    "print(\"Kombinasi model terbaik:\", gscv_svm.best_estimator_)\n",
    "\n",
    "svm_test_score = gscv_svm.best_estimator_.score(X_test, y_test)\n",
    "print(\"\\nSkor Test (akurasi) SVM:\", svm_test_score)\n",
    "\n",
    "# Fitur terbaik (jika selector mendukung get_support)\n",
    "selector_svm = gscv_svm.best_estimator_.named_steps['feat_select']\n",
    "if hasattr(selector_svm, 'get_support'):\n",
    "    mask = selector_svm.get_support()\n",
    "    selected = np.array(X.columns)[mask]\n",
    "    print(\"\\nFitur terbaik (terpilih):\", selected)\n",
    "\n",
    "# Confusion Matrix\n",
    "svm_pred = gscv_svm.predict(X_test)\n",
    "cm_svm = confusion_matrix(y_test, svm_pred)\n",
    "disp_svm = ConfusionMatrixDisplay(confusion_matrix=cm_svm, display_labels=['0 = Tidak Aman','1 = Aman'])\n",
    "disp_svm.plot(cmap=plt.cm.Blues)\n",
    "plt.title(\"Confusion Matrix — SVM\")\n",
    "plt.show()\n",
    "\n",
    "print(\"\\nClassification Report — SVM:\\n\", classification_report(y_test, svm_pred))\n",
    "print(f\"Accuracy: {accuracy_score(y_test, svm_pred):.4f}\")\n",
    "print(f\"Precision: {precision_score(y_test, svm_pred):.4f}\")\n",
    "print(f\"Recall: {recall_score(y_test, svm_pred):.4f}\")\n",
    "print(f\"F1-Score: {f1_score(y_test, svm_pred):.4f}\")"
   ]
  },
  {
   "cell_type": "markdown",
   "id": "45e28b7b",
   "metadata": {},
   "source": [
    "<h3>Perbandingan Gradient Boosting Classifier dan Support Vector Machine</h3>"
   ]
  },
  {
   "cell_type": "code",
   "execution_count": 12,
   "id": "7cf18b50",
   "metadata": {},
   "outputs": [
    {
     "data": {
      "image/png": "[encoded data removed]",
      "text/plain": [
       "<Figure size 1200x400 with 2 Axes>"
      ]
     },
     "metadata": {},
     "output_type": "display_data"
    },
    {
     "name": "stdout",
     "output_type": "stream",
     "text": [
      "PERBANDINGAN METRIK EVALUASI\n",
      "\n",
      "                 Model  Accuracy  Precision   Recall  F1-Score\n",
      "     Gradient Boosting  0.889362   0.849462 0.868132  0.858696\n",
      "Support Vector Machine  0.851064   0.797872 0.824176  0.810811\n",
      "\n",
      "Model terbaik berdasarkan F1-Score adalah: Gradient Boosting\n"
     ]
    }
   ],
   "source": [
    "# Buat figure dengan 2 subplot berdampingan (1 baris, 2 kolom)\n",
    "fig, (ax1, ax2) = plt.subplots(ncols=2, figsize=(12, 4))\n",
    "\n",
    "# Confusion Matrix untuk Gradient Boosting Classifier\n",
    "disp_gb = ConfusionMatrixDisplay.from_estimator(gscv_gb.best_estimator_, X_test, y_test, cmap=plt.cm.Greens, colorbar=False, ax=ax1)\n",
    "ax1.set_title(\"Gradient Boosting Classifier\")\n",
    "\n",
    "# Confusion Matrix untuk Support Vector Machine\n",
    "disp_svm = ConfusionMatrixDisplay.from_estimator(gscv_svm.best_estimator_, X_test, y_test, cmap=plt.cm.Blues, colorbar=False, ax=ax2)\n",
    "ax2.set_title(\"Support Vector Machine\")\n",
    "\n",
    "# Rapikan tata letak agar subplot tidak tumpang tindih\n",
    "plt.tight_layout()\n",
    "plt.show()\n",
    "\n",
    "# Hitung metrik untuk kedua model\n",
    "metrics_comparison = {\n",
    "    'Model': ['Gradient Boosting', 'Support Vector Machine'],\n",
    "    'Accuracy': [\n",
    "        accuracy_score(y_test, gb_pred),\n",
    "        accuracy_score(y_test, svm_pred)\n",
    "    ],\n",
    "    'Precision': [\n",
    "        precision_score(y_test, gb_pred),\n",
    "        precision_score(y_test, svm_pred)\n",
    "    ],\n",
    "    'Recall': [\n",
    "        recall_score(y_test, gb_pred),\n",
    "        recall_score(y_test, svm_pred)\n",
    "    ],\n",
    "    'F1-Score': [\n",
    "        f1_score(y_test, gb_pred),\n",
    "        f1_score(y_test, svm_pred)\n",
    "    ]\n",
    "}\n",
    "\n",
    "# Buat DataFrame untuk perbandingan\n",
    "df_comparison = pd.DataFrame(metrics_comparison)\n",
    "\n",
    "print(\"PERBANDINGAN METRIK EVALUASI\\n\")\n",
    "print(df_comparison.to_string(index=False))\n",
    "\n",
    "# Model terbaik berdasarkan F1-Score\n",
    "best_idx_f1 = df_comparison['F1-Score'].idxmax()\n",
    "best_model = df_comparison.loc[best_idx_f1, 'Model']\n",
    "print(f\"\\nModel terbaik berdasarkan F1-Score adalah: {best_model}\")"
   ]
  },
  {
   "cell_type": "markdown",
   "id": "a177bfb4",
   "metadata": {},
   "source": [
    "<h3>Import salah satu model terbaik</h3>"
   ]
  },
  {
   "cell_type": "code",
   "execution_count": 13,
   "id": "d66d9f06",
   "metadata": {},
   "outputs": [
    {
     "name": "stdout",
     "output_type": "stream",
     "text": [
      "✅ Model terbaik berhasil disimpan ke 'BestModel_CLF_GB_Pandas.pkl'\n"
     ]
    }
   ],
   "source": [
    "import pickle\n",
    "# Ambil model terbaik dari hasil GridSearchCV\n",
    "best_model_ = gscv_gb.best_estimator_.named_steps['clf']\n",
    "\n",
    "# Simpan model terbaik ke file pickle\n",
    "with open(\"BestModel_CLF_GB_Pandas.pkl\", \"wb\") as f:\n",
    "    pickle.dump(best_model_, f)\n",
    "\n",
    "print(\"✅ Model terbaik berhasil disimpan ke 'BestModel_CLF_GB_Pandas.pkl'\")"
   ]
  }
 ],
 "metadata": {
  "kernelspec": {
   "display_name": "Python 3",
   "language": "python",
   "name": "python3"
  },
  "language_info": {
   "codemirror_mode": {
    "name": "ipython",
    "version": 3
   },
   "file_extension": ".py",
   "mimetype": "text/x-python",
   "name": "python",
   "nbconvert_exporter": "python",
   "pygments_lexer": "ipython3",
   "version": "3.12.6"
  }
 },
 "nbformat": 4,
 "nbformat_minor": 5
}
