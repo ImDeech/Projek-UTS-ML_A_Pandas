{
 "cells": [
  {
   "cell_type": "markdown",
   "id": "74f62c73",
   "metadata": {},
   "source": [
    "<h1>Klasifikasi Tsunami dan Gempa - Machine Learning</h1>\n",
    "\n"
   ]
  },
  {
   "cell_type": "code",
   "execution_count": null,
   "id": "e312bf29",
   "metadata": {},
   "outputs": [],
   "source": [
    "# Data Manipulation\n",
    "import pandas as pd\n",
    "import numpy as np\n",
    "\n",
    "# Visualization\n",
    "import matplotlib.pyplot as plt\n",
    "\n",
    "# Machine Learning, Klasifikasi, dan Evaluasi\n",
    "from sklearn.model_selection import train_test_split\n",
    "from sklearn.metrics import classification_report, confusion_matrix\n",
    "from sklearn.preprocessing import StandardScaler\n",
    "from sklearn.pipeline import Pipeline\n",
    "from sklearn.preprocessing import MinMaxScaler\n",
    "from sklearn.feature_selection import SelectKBest, SelectPercentile, f_classif\n",
    "from sklearn.model_selection import StratifiedKFold, GridSearchCV\n",
    "import time\n",
    "from sklearn.ensemble import RandomForestClassifier\n",
    "from sklearn.linear_model import LogisticRegression\n",
    "from sklearn.metrics import accuracy_score, precision_score, recall_score, f1_score\n",
    "from sklearn.metrics import (\n",
    "    confusion_matrix,\n",
    "    ConfusionMatrixDisplay,\n",
    "    classification_report\n",
    ")"
   ]
  },
  {
   "cell_type": "markdown",
   "id": "dea46012",
   "metadata": {},
   "source": [
    "<h1>Load Dataset<h1>"
   ]
  },
  {
   "cell_type": "code",
   "execution_count": 17,
   "id": "9fa0dd8e",
   "metadata": {},
   "outputs": [
    {
     "data": {
      "text/html": [
       "<div>\n",
       "<style scoped>\n",
       "    .dataframe tbody tr th:only-of-type {\n",
       "        vertical-align: middle;\n",
       "    }\n",
       "\n",
       "    .dataframe tbody tr th {\n",
       "        vertical-align: top;\n",
       "    }\n",
       "\n",
       "    .dataframe thead th {\n",
       "        text-align: right;\n",
       "    }\n",
       "</style>\n",
       "<table border=\"1\" class=\"dataframe\">\n",
       "  <thead>\n",
       "    <tr style=\"text-align: right;\">\n",
       "      <th></th>\n",
       "      <th>magnitude</th>\n",
       "      <th>cdi</th>\n",
       "      <th>mmi</th>\n",
       "      <th>sig</th>\n",
       "      <th>nst</th>\n",
       "      <th>dmin</th>\n",
       "      <th>gap</th>\n",
       "      <th>depth</th>\n",
       "      <th>latitude</th>\n",
       "      <th>longitude</th>\n",
       "      <th>Year</th>\n",
       "      <th>Month</th>\n",
       "      <th>tsunami</th>\n",
       "    </tr>\n",
       "  </thead>\n",
       "  <tbody>\n",
       "    <tr>\n",
       "      <th>0</th>\n",
       "      <td>7.0</td>\n",
       "      <td>8</td>\n",
       "      <td>7</td>\n",
       "      <td>768</td>\n",
       "      <td>117</td>\n",
       "      <td>0.509</td>\n",
       "      <td>17.0</td>\n",
       "      <td>14.000</td>\n",
       "      <td>-9.7963</td>\n",
       "      <td>159.596</td>\n",
       "      <td>2022</td>\n",
       "      <td>11</td>\n",
       "      <td>1</td>\n",
       "    </tr>\n",
       "    <tr>\n",
       "      <th>1</th>\n",
       "      <td>6.9</td>\n",
       "      <td>4</td>\n",
       "      <td>4</td>\n",
       "      <td>735</td>\n",
       "      <td>99</td>\n",
       "      <td>2.229</td>\n",
       "      <td>34.0</td>\n",
       "      <td>25.000</td>\n",
       "      <td>-4.9559</td>\n",
       "      <td>100.738</td>\n",
       "      <td>2022</td>\n",
       "      <td>11</td>\n",
       "      <td>0</td>\n",
       "    </tr>\n",
       "    <tr>\n",
       "      <th>2</th>\n",
       "      <td>7.0</td>\n",
       "      <td>3</td>\n",
       "      <td>3</td>\n",
       "      <td>755</td>\n",
       "      <td>147</td>\n",
       "      <td>3.125</td>\n",
       "      <td>18.0</td>\n",
       "      <td>579.000</td>\n",
       "      <td>-20.0508</td>\n",
       "      <td>-178.346</td>\n",
       "      <td>2022</td>\n",
       "      <td>11</td>\n",
       "      <td>1</td>\n",
       "    </tr>\n",
       "    <tr>\n",
       "      <th>3</th>\n",
       "      <td>7.3</td>\n",
       "      <td>5</td>\n",
       "      <td>5</td>\n",
       "      <td>833</td>\n",
       "      <td>149</td>\n",
       "      <td>1.865</td>\n",
       "      <td>21.0</td>\n",
       "      <td>37.000</td>\n",
       "      <td>-19.2918</td>\n",
       "      <td>-172.129</td>\n",
       "      <td>2022</td>\n",
       "      <td>11</td>\n",
       "      <td>1</td>\n",
       "    </tr>\n",
       "    <tr>\n",
       "      <th>4</th>\n",
       "      <td>6.6</td>\n",
       "      <td>0</td>\n",
       "      <td>2</td>\n",
       "      <td>670</td>\n",
       "      <td>131</td>\n",
       "      <td>4.998</td>\n",
       "      <td>27.0</td>\n",
       "      <td>624.464</td>\n",
       "      <td>-25.5948</td>\n",
       "      <td>178.278</td>\n",
       "      <td>2022</td>\n",
       "      <td>11</td>\n",
       "      <td>1</td>\n",
       "    </tr>\n",
       "  </tbody>\n",
       "</table>\n",
       "</div>"
      ],
      "text/plain": [
       "   magnitude  cdi  mmi  sig  nst   dmin   gap    depth  latitude  longitude  \\\n",
       "0        7.0    8    7  768  117  0.509  17.0   14.000   -9.7963    159.596   \n",
       "1        6.9    4    4  735   99  2.229  34.0   25.000   -4.9559    100.738   \n",
       "2        7.0    3    3  755  147  3.125  18.0  579.000  -20.0508   -178.346   \n",
       "3        7.3    5    5  833  149  1.865  21.0   37.000  -19.2918   -172.129   \n",
       "4        6.6    0    2  670  131  4.998  27.0  624.464  -25.5948    178.278   \n",
       "\n",
       "   Year  Month  tsunami  \n",
       "0  2022     11        1  \n",
       "1  2022     11        0  \n",
       "2  2022     11        1  \n",
       "3  2022     11        1  \n",
       "4  2022     11        1  "
      ]
     },
     "execution_count": 17,
     "metadata": {},
     "output_type": "execute_result"
    }
   ],
   "source": [
    "file_path = 'earthquake_data_tsunami.csv'\n",
    "df_earthquakes_tsunami = pd.read_csv(file_path)\n",
    "df_earthquakes_tsunami.head()"
   ]
  },
  {
   "cell_type": "markdown",
   "id": "edac2b60",
   "metadata": {},
   "source": [
    "<h1>Pembersihan Data</h1>"
   ]
  },
  {
   "cell_type": "code",
   "execution_count": 18,
   "id": "14c8f8e5",
   "metadata": {},
   "outputs": [
    {
     "name": "stdout",
     "output_type": "stream",
     "text": [
      "Jumlah nilai kosong per kolom:\n",
      " magnitude    0\n",
      "cdi          0\n",
      "mmi          0\n",
      "sig          0\n",
      "nst          0\n",
      "dmin         0\n",
      "gap          0\n",
      "depth        0\n",
      "latitude     0\n",
      "longitude    0\n",
      "Year         0\n",
      "Month        0\n",
      "tsunami      0\n",
      "dtype: int64\n",
      "\n",
      "Setelah imputasi, nilai kosong per kolom:\n",
      " magnitude    0\n",
      "cdi          0\n",
      "mmi          0\n",
      "sig          0\n",
      "nst          0\n",
      "dmin         0\n",
      "gap          0\n",
      "depth        0\n",
      "latitude     0\n",
      "longitude    0\n",
      "Year         0\n",
      "Month        0\n",
      "tsunami      0\n",
      "dtype: int64\n"
     ]
    }
   ],
   "source": [
    "#Cek Kolom\n",
    "print(\"Jumlah nilai kosong per kolom:\\n\", df_earthquakes_tsunami.isnull().sum())\n",
    "\n",
    "#Validasi Ulang\n",
    "print(\"\\nSetelah imputasi, nilai kosong per kolom:\\n\", df_earthquakes_tsunami.isnull().sum())"
   ]
  },
  {
   "cell_type": "code",
   "execution_count": 19,
   "id": "208f4794",
   "metadata": {},
   "outputs": [
    {
     "name": "stdout",
     "output_type": "stream",
     "text": [
      "Jumlah baris duplikat (terhitung ganda): 0\n",
      "Bentuk data sebelum/ setelah hapus duplikat: (782, 13) -> (782, 13)\n"
     ]
    }
   ],
   "source": [
    "before = df_earthquakes_tsunami.shape\n",
    "dupes = df_earthquakes_tsunami[df_earthquakes_tsunami.duplicated(keep=False)]\n",
    "print(f\"Jumlah baris duplikat (terhitung ganda): {dupes.shape[0]}\")\n",
    "df_earthquakes_tsunami2 = df_earthquakes_tsunami.drop_duplicates(keep='first')\n",
    "print(\"Bentuk data sebelum/ setelah hapus duplikat:\", before, \"->\", df_earthquakes_tsunami2.shape)"
   ]
  },
  {
   "cell_type": "markdown",
   "id": "66afb2bc",
   "metadata": {},
   "source": [
    "<h3>Pemisahan Fitur-Target</h3>"
   ]
  },
  {
   "cell_type": "code",
   "execution_count": 20,
   "id": "921ff0e8",
   "metadata": {},
   "outputs": [],
   "source": [
    "y = df_earthquakes_tsunami['tsunami']\n",
    "not_needed_columns = ['tsunami', 'Year', 'Month']\n",
    "X = df_earthquakes_tsunami.drop(columns=not_needed_columns)"
   ]
  },
  {
   "cell_type": "markdown",
   "id": "84e715bd",
   "metadata": {},
   "source": [
    "<h3>Train Test</h3>"
   ]
  },
  {
   "cell_type": "code",
   "execution_count": 21,
   "id": "6968b072",
   "metadata": {},
   "outputs": [
    {
     "name": "stdout",
     "output_type": "stream",
     "text": [
      "Ukuran X_train, X_test: (547, 10) (235, 10)\n"
     ]
    }
   ],
   "source": [
    "X_train, X_test, y_train, y_test = train_test_split(\n",
    "    X, y, test_size=0.30, random_state = 28, stratify=y)\n",
    "\n",
    "print(\"Ukuran X_train, X_test:\", X_train.shape, X_test.shape)"
   ]
  },
  {
   "cell_type": "markdown",
   "id": "50131d28",
   "metadata": {},
   "source": [
    "<h3>Random Forest</h3>"
   ]
  },
  {
   "cell_type": "code",
   "execution_count": 22,
   "id": "747dbaa6",
   "metadata": {},
   "outputs": [
    {
     "name": "stdout",
     "output_type": "stream",
     "text": [
      "Menjalankan GridSearch untuk Random Forest...\n",
      "Fitting 5 folds for each of 405 candidates, totalling 2025 fits\n",
      "GridSearch Random Forest selesai dalam 307.83 detik\n"
     ]
    }
   ],
   "source": [
    "# ============================================================\n",
    "#  PIPELINE: Scaling → Feature Selection → Random Forest\n",
    "# ============================================================\n",
    "\n",
    "\n",
    "# Rancang pipeline: gabungkan scaling, seleksi fitur, dan model Random Forest\n",
    "pipe_rf = Pipeline(steps=[\n",
    "    ('feat_select', SelectKBest()),\n",
    "    ('clf', RandomForestClassifier(\n",
    "        class_weight='balanced',\n",
    "        random_state=28,\n",
    "        n_estimators=-1\n",
    "    ))\n",
    "])\n",
    "\n",
    "# GridSearch: dua jenis seleksi fitur (KBest dan Percentile) dengan kombinasi parameter model\n",
    "params_grid_rf = [\n",
    "    # Kandidat 1: pakai SelectKBest\n",
    "    {\n",
    "        'feat_select__k': np.arange(5, 15),        # jumlah fitur terbaik yang diuji\n",
    "        'clf__n_estimators': [100, 300, 500],      # jumlah pohon\n",
    "        'clf__max_depth': [None, 5, 10],           # batas kedalaman tiap pohon\n",
    "        'clf__min_samples_split': [2, 5, 10]       # jumlah minimal sampel untuk split node\n",
    "    },\n",
    "    # Kandidat 2: pakai SelectPercentile\n",
    "    {\n",
    "        'feat_select': [SelectPercentile()],\n",
    "        'feat_select__percentile': np.arange(30, 80, 10),\n",
    "        'clf__n_estimators': [100, 300, 500],\n",
    "        'clf__max_depth': [None, 5, 10],\n",
    "        'clf__min_samples_split': [2, 5, 10]\n",
    "    }\n",
    "]\n",
    "\n",
    "# StratifiedKFold: memastikan proporsi kelas tetap sama di setiap fold CV\n",
    "SKF = StratifiedKFold(n_splits=5, shuffle=True, random_state=28)\n",
    "\n",
    "# Jalankan GridSearchCV: mencari kombinasi parameter terbaik dengan metrik F1\n",
    "gscv_rf = GridSearchCV(\n",
    "    pipe_rf,\n",
    "    params_grid_rf,\n",
    "    cv=SKF,\n",
    "    scoring='f1',\n",
    "    verbose=1,\n",
    "    n_jobs=-1\n",
    ")\n",
    "\n",
    "print(\"Menjalankan GridSearch untuk Random Forest...\")\n",
    "start = time.time()\n",
    "\n",
    "gscv_rf.fit(X_train, y_train)\n",
    "\n",
    "print(f\"GridSearch Random Forest selesai dalam {time.time() - start:.2f} detik\")\n"
   ]
  },
  {
   "cell_type": "markdown",
   "id": "42743dc5",
   "metadata": {},
   "source": [
    "<h3>Evaluasi Random Forest</h3>"
   ]
  },
  {
   "cell_type": "code",
   "execution_count": 23,
   "id": "6b2c0844",
   "metadata": {},
   "outputs": [
    {
     "name": "stdout",
     "output_type": "stream",
     "text": [
      "CV Score (F1) terbaik: 0.8663305322128851\n",
      "Kombinasi model terbaik: Pipeline(steps=[('feat_select', SelectKBest(k=np.int64(7))),\n",
      "                ('clf',\n",
      "                 RandomForestClassifier(class_weight='balanced',\n",
      "                                        min_samples_split=10, n_estimators=300,\n",
      "                                        random_state=28))])\n",
      "\n",
      "Skor Test (akurasi) Random Forest: 0.8723404255319149\n",
      "\n",
      "Fitur terbaik (terpilih): ['cdi' 'mmi' 'nst' 'dmin' 'gap' 'latitude' 'longitude']\n"
     ]
    },
    {
     "data": {
      "image/png": "[encoded data removed]",
      "text/plain": [
       "<Figure size 640x480 with 2 Axes>"
      ]
     },
     "metadata": {},
     "output_type": "display_data"
    },
    {
     "name": "stdout",
     "output_type": "stream",
     "text": [
      "\n",
      "Classification Report — Random Forest:\n",
      "               precision    recall  f1-score   support\n",
      "\n",
      "           0       0.93      0.86      0.89       144\n",
      "           1       0.80      0.89      0.84        91\n",
      "\n",
      "    accuracy                           0.87       235\n",
      "   macro avg       0.86      0.88      0.87       235\n",
      "weighted avg       0.88      0.87      0.87       235\n",
      "\n",
      "Accuracy: 0.8723\n",
      "Precision: 0.8020\n",
      "Recall: 0.8901\n",
      "F1-Score: 0.8438\n"
     ]
    }
   ],
   "source": [
    "#  Evaluasi hasil GridSearch\n",
    "print(\"CV Score (F1) terbaik:\", gscv_rf.best_score_)\n",
    "print(\"Kombinasi model terbaik:\", gscv_rf.best_estimator_)\n",
    "\n",
    "rf_test_score = gscv_rf.best_estimator_.score(X_test, y_test)\n",
    "print(\"\\nSkor Test (akurasi) Random Forest:\", rf_test_score)\n",
    "\n",
    "#  Fitur terbaik (jika selector mendukung get_support)\n",
    "selector = gscv_rf.best_estimator_.named_steps['feat_select']\n",
    "if hasattr(selector, 'get_support'):\n",
    "    mask = selector.get_support()\n",
    "    selected = np.array(X.columns)[mask]\n",
    "    print(\"\\nFitur terbaik (terpilih):\", selected)\n",
    "\n",
    "#  Confusion Matrix & Classification Report\n",
    "rf_pred = gscv_rf.predict(X_test)\n",
    "cm_rf = confusion_matrix(y_test, rf_pred)\n",
    "disp_rf = ConfusionMatrixDisplay(confusion_matrix=cm_rf, display_labels=['0 = Aman','1 = Tidak Aman'])\n",
    "disp_rf.plot(cmap=plt.cm.Greens)\n",
    "plt.title(\"Confusion Matrix — Random Forest\")\n",
    "plt.show()\n",
    "\n",
    "# Silakan diisi bagian ini dengan kode yang tepat ()\n",
    "print(\"\\nClassification Report — Random Forest:\\n\", classification_report(y_test, rf_pred))\n",
    "print(f\"Accuracy: {accuracy_score(y_test, rf_pred):.4f}\")\n",
    "print(f\"Precision: {precision_score(y_test, rf_pred):.4f}\")\n",
    "print(f\"Recall: {recall_score(y_test, rf_pred):.4f}\")\n",
    "print(f\"F1-Score: {f1_score(y_test, rf_pred):.4f}\")\n"
   ]
  },
  {
   "cell_type": "markdown",
   "id": "42325e2d",
   "metadata": {},
   "source": [
    "<h3>Logistic Regression</h3>"
   ]
  },
  {
   "cell_type": "code",
   "execution_count": 24,
   "id": "1ef6d9f3",
   "metadata": {},
   "outputs": [
    {
     "name": "stdout",
     "output_type": "stream",
     "text": [
      "Menjalankan GridSearch untuk Logistic Regression...\n",
      "Fitting 5 folds for each of 224 candidates, totalling 1120 fits\n",
      "GridSearch Logistic Regression selesai dalam 1.87 detik\n"
     ]
    }
   ],
   "source": [
    "# ============================================================\n",
    "#  PIPELINE: Scaling → Feature Selection → Logistic Regression\n",
    "# ============================================================\n",
    "\n",
    "pipe_lr = Pipeline(steps=[\n",
    "    ('scaler', StandardScaler()),  # placeholder, nanti diganti lewat GridSearch\n",
    "    ('feat_select', SelectKBest()),\n",
    "    ('clf', LogisticRegression(\n",
    "        class_weight='balanced',\n",
    "        solver='liblinear',\n",
    "        max_iter=500\n",
    "    ))\n",
    "])\n",
    "\n",
    "# GridSearch: tambahkan pilihan dua scaler (Standard & MinMax)\n",
    "params_grid_lr = [\n",
    "    {\n",
    "        'scaler': [StandardScaler(), MinMaxScaler()],     # <--- Tambahan penting\n",
    "        'feat_select': [SelectKBest()],\n",
    "        'feat_select__k': np.arange(2, 10),\n",
    "        'clf__penalty': ['l1', 'l2'],\n",
    "        'clf__C': [0.01, 0.1, 1, 10],\n",
    "    },\n",
    "    {\n",
    "        'scaler': [StandardScaler(), MinMaxScaler()],     # <--- Tambahan penting juga\n",
    "        'feat_select': [SelectPercentile()],\n",
    "        'feat_select__percentile': np.arange(20, 80, 10),\n",
    "        'clf__penalty': ['l1', 'l2'],\n",
    "        'clf__C': [0.01, 0.1, 1, 10],\n",
    "    }\n",
    "]\n",
    "\n",
    "# Stratified K-Fold Cross Validation\n",
    "SKF = StratifiedKFold(n_splits=5, shuffle=True, random_state=28)\n",
    "\n",
    "# Jalankan GridSearchCV untuk mencari kombinasi terbaik\n",
    "gscv_lr = GridSearchCV(\n",
    "    pipe_lr,\n",
    "    params_grid_lr,\n",
    "    cv=SKF,\n",
    "    scoring='f1',\n",
    "    verbose=1,\n",
    "    n_jobs=-1\n",
    ")\n",
    "\n",
    "print(\"Menjalankan GridSearch untuk Logistic Regression...\")\n",
    "start = time.time()\n",
    "gscv_lr.fit(X_train, y_train)\n",
    "print(f\"GridSearch Logistic Regression selesai dalam {time.time() - start:.2f} detik\")"
   ]
  },
  {
   "cell_type": "markdown",
   "id": "443da473",
   "metadata": {},
   "source": [
    "<h3>Evaluasi Logistic Regression</h3>"
   ]
  },
  {
   "cell_type": "code",
   "execution_count": 25,
   "id": "e5a33ecd",
   "metadata": {},
   "outputs": [
    {
     "name": "stdout",
     "output_type": "stream",
     "text": [
      "CV Score (F1) terbaik: 0.7963007289739963\n",
      "Kombinasi model terbaik: Pipeline(steps=[('scaler', StandardScaler()),\n",
      "                ('feat_select', SelectKBest(k=np.int64(4))),\n",
      "                ('clf',\n",
      "                 LogisticRegression(C=0.01, class_weight='balanced',\n",
      "                                    max_iter=500, solver='liblinear'))])\n",
      "\n",
      "Skor Test (akurasi) Logistic Regression: 0.8382978723404255\n",
      "\n",
      "Fitur terbaik (terpilih): ['cdi' 'nst' 'dmin' 'longitude']\n"
     ]
    },
    {
     "data": {
      "image/png": "[encoded data removed]",
      "text/plain": [
       "<Figure size 640x480 with 2 Axes>"
      ]
     },
     "metadata": {},
     "output_type": "display_data"
    },
    {
     "name": "stdout",
     "output_type": "stream",
     "text": [
      "\n",
      "Classification Report — Logistic Regression:\n",
      "               precision    recall  f1-score   support\n",
      "\n",
      "           0       0.96      0.77      0.85       144\n",
      "           1       0.72      0.95      0.82        91\n",
      "\n",
      "    accuracy                           0.84       235\n",
      "   macro avg       0.84      0.86      0.84       235\n",
      "weighted avg       0.87      0.84      0.84       235\n",
      "\n",
      "Accuracy: 0.8383\n",
      "Precision: 0.7227\n",
      "Recall: 0.9451\n",
      "F1-Score: 0.8190\n"
     ]
    }
   ],
   "source": [
    "# Evaluasi hasil terbaik\n",
    "print(\"CV Score (F1) terbaik:\", gscv_lr.best_score_)\n",
    "print(\"Kombinasi model terbaik:\", gscv_lr.best_estimator_)\n",
    "\n",
    "lr_test_score = gscv_lr.best_estimator_.score(X_test, y_test)\n",
    "print(\"\\nSkor Test (akurasi) Logistic Regression:\", lr_test_score)\n",
    "\n",
    "# Fitur terbaik (jika feature selector mendukung get_support)\n",
    "selector = gscv_lr.best_estimator_.named_steps['feat_select']\n",
    "if hasattr(selector, 'get_support'):\n",
    "    mask = selector.get_support()\n",
    "    selected = np.array(X.columns)[mask]\n",
    "    print(\"\\nFitur terbaik (terpilih):\", selected)\n",
    "\n",
    "# Confusion Matrix & Classification Report\n",
    "lr_pred = gscv_lr.predict(X_test)\n",
    "cm_lr = confusion_matrix(y_test, lr_pred)\n",
    "disp_lr = ConfusionMatrixDisplay(confusion_matrix=cm_lr, display_labels=['0 = Tidak Aman','1 = Aman'])\n",
    "disp_lr.plot(cmap=plt.cm.Blues)\n",
    "plt.title(\"Confusion Matrix — Logistic Regression\")\n",
    "plt.show()\n",
    "\n",
    "print(\"\\nClassification Report — Logistic Regression:\\n\", classification_report(y_test, lr_pred))\n",
    "print(f\"Accuracy: {accuracy_score(y_test, lr_pred):.4f}\")\n",
    "print(f\"Precision: {precision_score(y_test, lr_pred):.4f}\")\n",
    "print(f\"Recall: {recall_score(y_test, lr_pred):.4f}\")\n",
    "print(f\"F1-Score: {f1_score(y_test, lr_pred):.4f}\")"
   ]
  },
  {
   "cell_type": "markdown",
   "id": "5b0d750d",
   "metadata": {},
   "source": [
    "<h3>Perbandingan Random Forest dan Logistic Regression</h3>"
   ]
  },
  {
   "cell_type": "code",
   "execution_count": 26,
   "id": "f89e0220",
   "metadata": {},
   "outputs": [
    {
     "data": {
      "image/png": "[encoded data removed]",
      "text/plain": [
       "<Figure size 1200x400 with 2 Axes>"
      ]
     },
     "metadata": {},
     "output_type": "display_data"
    },
    {
     "name": "stdout",
     "output_type": "stream",
     "text": [
      "PERBANDINGAN METRIK EVALUASI\n",
      "\n",
      "              Model  Accuracy  Precision   Recall  F1-Score\n",
      "      Random Forest  0.872340   0.801980 0.890110  0.843750\n",
      "Logistic Regression  0.838298   0.722689 0.945055  0.819048\n",
      "\n",
      "Model terbaik berdasarkan F1-Score adalah: Random Forest\n"
     ]
    }
   ],
   "source": [
    "# Buat figure dengan 2 subplot berdampingan (1 baris, 2 kolom)\n",
    "fig, (ax1, ax2) = plt.subplots(ncols=2, figsize=(12, 4))\n",
    "\n",
    "# Plot Confusion Matrix untuk Random Forest\n",
    "disp_lr.plot(ax=ax1, cmap=plt.cm.Blues, colorbar=False)\n",
    "ax1.set_title(\"Random Forest \")\n",
    "\n",
    "# Plot Confusion Matrix untuk Logistic Regression\n",
    "disp_rf.plot(ax=ax2, cmap=plt.cm.Greens, colorbar=False)\n",
    "ax2.set_title(\"Logistic Regression)\")\n",
    "\n",
    "# Rapikan tata letak agar subplot tidak tumpang tindih\n",
    "plt.tight_layout()\n",
    "plt.show()\n",
    "\n",
    "# Hitung metrik untuk kedua model\n",
    "metrics_comparison = {\n",
    "    'Model': ['Random Forest', 'Logistic Regression'],\n",
    "    'Accuracy': [\n",
    "        accuracy_score(y_test, rf_pred),\n",
    "        accuracy_score(y_test, lr_pred)\n",
    "    ],\n",
    "    'Precision': [\n",
    "        precision_score(y_test, rf_pred),\n",
    "        precision_score(y_test, lr_pred)\n",
    "    ],\n",
    "    'Recall': [\n",
    "        recall_score(y_test, rf_pred),\n",
    "        recall_score(y_test, lr_pred)\n",
    "    ],\n",
    "    'F1-Score': [\n",
    "        f1_score(y_test, rf_pred),\n",
    "        f1_score(y_test, lr_pred)\n",
    "    ]\n",
    "}\n",
    "\n",
    "# Buat DataFrame untuk perbandingan\n",
    "df_comparison = pd.DataFrame(metrics_comparison)\n",
    "\n",
    "print(\"PERBANDINGAN METRIK EVALUASI\\n\")\n",
    "print(df_comparison.to_string(index=False))\n",
    "\n",
    "# Model terbaik berdasarkan F1-Score\n",
    "best_idx_f1 = df_comparison['F1-Score'].idxmax()\n",
    "best_model = df_comparison.loc[best_idx_f1, 'Model']\n",
    "print(f\"\\nModel terbaik berdasarkan F1-Score adalah: {best_model}\")"
   ]
  }
 ],
 "metadata": {
  "kernelspec": {
   "display_name": "Python 3",
   "language": "python",
   "name": "python3"
  },
  "language_info": {
   "codemirror_mode": {
    "name": "ipython",
    "version": 3
   },
   "file_extension": ".py",
   "mimetype": "text/x-python",
   "name": "python",
   "nbconvert_exporter": "python",
   "pygments_lexer": "ipython3",
   "version": "3.12.6"
  }
 },
 "nbformat": 4,
 "nbformat_minor": 5
}
